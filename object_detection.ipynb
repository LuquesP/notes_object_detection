{
 "cells": [
  {
   "cell_type": "code",
   "execution_count": 4,
   "metadata": {},
   "outputs": [],
   "source": [
    "import os \n",
    "import csv    "
   ]
  },
  {
   "cell_type": "code",
   "execution_count": 5,
   "metadata": {},
   "outputs": [],
   "source": [
    "ROOT_DIR = os.getcwd() \n",
    "DATA_DIR = os.path.join(ROOT_DIR, 'data', 'normalized')"
   ]
  },
  {
   "cell_type": "code",
   "execution_count": 6,
   "metadata": {
    "tags": []
   },
   "outputs": [
    {
     "output_type": "stream",
     "name": "stdout",
     "text": "c:\\Users\\LukasPilsl\\Documents\\coding\\psta_notes\\ObjectDetection\\data\\normalized\n"
    }
   ],
   "source": [
    "print(DATA_DIR) "
   ]
  },
  {
   "cell_type": "code",
   "execution_count": 8,
   "metadata": {
    "tags": []
   },
   "outputs": [
    {
     "output_type": "error",
     "ename": "AttributeError",
     "evalue": "'str' object has no attribute 'unique'",
     "traceback": [
      "\u001b[1;31m---------------------------------------------------------------------------\u001b[0m",
      "\u001b[1;31mAttributeError\u001b[0m                            Traceback (most recent call last)",
      "\u001b[1;32m<ipython-input-8-7dc42049bd85>\u001b[0m in \u001b[0;36m<module>\u001b[1;34m\u001b[0m\n\u001b[0;32m      4\u001b[0m     \u001b[1;32mfor\u001b[0m \u001b[0mline\u001b[0m \u001b[1;32min\u001b[0m \u001b[0mdeepscores_reader\u001b[0m\u001b[1;33m:\u001b[0m\u001b[1;33m\u001b[0m\u001b[1;33m\u001b[0m\u001b[0m\n\u001b[0;32m      5\u001b[0m         \u001b[1;31m# cl = line.split(',')[-1]\u001b[0m\u001b[1;33m\u001b[0m\u001b[1;33m\u001b[0m\u001b[1;33m\u001b[0m\u001b[0m\n\u001b[1;32m----> 6\u001b[1;33m         \u001b[0mprint\u001b[0m\u001b[1;33m(\u001b[0m\u001b[0mline\u001b[0m\u001b[1;33m[\u001b[0m\u001b[1;34m'path_to_image'\u001b[0m\u001b[1;33m]\u001b[0m\u001b[1;33m.\u001b[0m\u001b[0munique\u001b[0m\u001b[1;33m(\u001b[0m\u001b[1;33m)\u001b[0m\u001b[1;33m)\u001b[0m\u001b[1;33m\u001b[0m\u001b[1;33m\u001b[0m\u001b[0m\n\u001b[0m\u001b[0;32m      7\u001b[0m         \u001b[0mcl\u001b[0m \u001b[1;33m=\u001b[0m \u001b[0mline\u001b[0m\u001b[1;33m[\u001b[0m\u001b[1;34m'class_name'\u001b[0m\u001b[1;33m]\u001b[0m\u001b[1;33m\u001b[0m\u001b[1;33m\u001b[0m\u001b[0m\n\u001b[0;32m      8\u001b[0m         \u001b[1;32mif\u001b[0m \u001b[0mcl\u001b[0m \u001b[1;32mnot\u001b[0m \u001b[1;32min\u001b[0m \u001b[0mclasses_deepscores\u001b[0m\u001b[1;33m:\u001b[0m\u001b[1;33m\u001b[0m\u001b[1;33m\u001b[0m\u001b[0m\n",
      "\u001b[1;31mAttributeError\u001b[0m: 'str' object has no attribute 'unique'"
     ]
    }
   ],
   "source": [
    "classes_deepscores = [] \n",
    "with open(os.path.join(DATA_DIR, 'deepscores', 'annotations.csv'), \"r\", encoding='utf-8') as annot_file: \n",
    "    deepscores_reader = csv.DictReader(annot_file) \n",
    "    for line in deepscores_reader: \n",
    "        # cl = line.split(',')[-1]\n",
    "        print(line['path_to_image'].unique())\n",
    "        cl = line['class_name']\n",
    "        if cl not in classes_deepscores: \n",
    "            classes_deepscores.append(cl) \n",
    "\n",
    "print(len(classes_deepscores)) "
   ]
  },
  {
   "cell_type": "code",
   "execution_count": 6,
   "metadata": {
    "tags": []
   },
   "outputs": [
    {
     "output_type": "stream",
     "name": "stdout",
     "text": "50\n"
    }
   ],
   "source": [
    "classes_musicma = []\n",
    "with open(os.path.join(DATA_DIR, 'muscima', 'annotations.csv'), 'r', encoding='utf-8') as muscima_annot: \n",
    "    musicma_reader = csv.DictReader(muscima_annot)\n",
    "    for line in musicma_reader: \n",
    "        cl_m = line['class_name']\n",
    "        if cl_m not in classes_musicma: \n",
    "            classes_musicma.append(cl_m)\n",
    "\n",
    "print(len(classes_musicma))         "
   ]
  },
  {
   "cell_type": "code",
   "execution_count": 8,
   "metadata": {
    "tags": []
   },
   "outputs": [
    {
     "output_type": "stream",
     "name": "stdout",
     "text": "['text_field', 'barlineSingle', 'legerLine', 'stem', 'noteheadBlack', 'brace', 'restHalf', 'restQuarter', 'beam', 'tie', 'noteheadHalf', 'accidentalFlat', 'flag8thDown', 'timeSig4', 'combTimeSignature', 'keySharp', 'fClef', 'gClef', 'rest8th', 'flag8thUp', 'accidentalSharp', 'repeatDot', 'augmentationDot', 'slur', 'restWhole', 'noteheadWhole', 'text_script', 'timeSigCutCommon', 'clef8', 'accidentalNatural', 'timeSig1', 'timeSig2', 'timeSig8', 'keyFlat', 'fermataAbove', 'fermataBelow', 'timeSig3', 'rest16th', 'flag16thUp']\n['notehead-full', 'grace-notehead-full', 'notehead-empty', 'stem', 'beam', '8th_flag', 'ledger_line', 'duration-dot', 'slur', 'hairpin-cresc.', 'hairpin-decr.', '8th_rest', 'half_rest', 'whole_rest', 'quarter_rest', 'natural', 'thin_barline', 'accent', 'arpeggio_\"wobble\"', 'sharp', 'flat', 'g-clef', 'f-clef', 'key_signature', 'time_signature', 'whole-time_mark', 'letter_p', 'letter_m', 'letter_f', 'letter_o', 'letter_s', 'letter_t', 'letter_n', 'letter_r', 'letter_e', 'letter_c', 'letter_i', 'letter_a', 'letter_d', 'letter_T', 'tempo_text', 'dynamics_text', 'other_text', 'multi-staff_brace', 'grace_strikethrough', 'staff_grouping', 'measure_separator', 'staff_line', 'staff_space', 'staff']\n"
    }
   ],
   "source": [
    "print(classes_deepscores) \n",
    "print(classes_musicma)\n"
   ]
  },
  {
   "cell_type": "code",
   "execution_count": 10,
   "metadata": {
    "tags": []
   },
   "outputs": [
    {
     "output_type": "stream",
     "name": "stdout",
     "text": "text_field\nbarlineSingle\nlegerLine\nnoteheadBlack\nbrace\nrestHalf\nrestQuarter\ntie\nnoteheadHalf\naccidentalFlat\nflag8thDown\ntimeSig4\ncombTimeSignature\nkeySharp\nfClef\ngClef\nrest8th\nflag8thUp\naccidentalSharp\nrepeatDot\naugmentationDot\nrestWhole\nnoteheadWhole\ntext_script\ntimeSigCutCommon\nclef8\naccidentalNatural\ntimeSig1\ntimeSig2\ntimeSig8\nkeyFlat\nfermataAbove\nfermataBelow\ntimeSig3\nrest16th\nflag16thUp\n"
    }
   ],
   "source": [
    "for c in classes_deepscores: \n",
    "    if c not in classes_musicma: \n",
    "        print(c) "
   ]
  },
  {
   "cell_type": "code",
   "execution_count": 1,
   "metadata": {},
   "outputs": [],
   "source": [
    "import torch"
   ]
  },
  {
   "cell_type": "code",
   "execution_count": 2,
   "metadata": {
    "tags": []
   },
   "outputs": [
    {
     "output_type": "execute_result",
     "data": {
      "text/plain": "tensor([0.], device='cuda:0')"
     },
     "metadata": {},
     "execution_count": 2
    }
   ],
   "source": [
    "torch.zeros(1).cuda()"
   ]
  },
  {
   "cell_type": "code",
   "execution_count": 10,
   "metadata": {},
   "outputs": [
    {
     "output_type": "error",
     "ename": "SyntaxError",
     "evalue": "invalid syntax (<ipython-input-10-8fb8352cfb08>, line 1)",
     "traceback": [
      "\u001b[1;36m  File \u001b[1;32m\"<ipython-input-10-8fb8352cfb08>\"\u001b[1;36m, line \u001b[1;32m1\u001b[0m\n\u001b[1;33m    print(1.unique())\u001b[0m\n\u001b[1;37m                 ^\u001b[0m\n\u001b[1;31mSyntaxError\u001b[0m\u001b[1;31m:\u001b[0m invalid syntax\n"
     ]
    }
   ],
   "source": [
    "print(1.unique())"
   ]
  }
 ],
 "metadata": {
  "language_info": {
   "codemirror_mode": {
    "name": "ipython",
    "version": 3
   },
   "file_extension": ".py",
   "mimetype": "text/x-python",
   "name": "python",
   "nbconvert_exporter": "python",
   "pygments_lexer": "ipython3",
   "version": "3.7.7-final"
  },
  "orig_nbformat": 2,
  "kernelspec": {
   "name": "python_defaultSpec_1594646780446",
   "display_name": "Python 3.7.7 64-bit ('psta_notes': conda)"
  }
 },
 "nbformat": 4,
 "nbformat_minor": 2
}